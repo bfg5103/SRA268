{
  "nbformat": 4,
  "nbformat_minor": 0,
  "metadata": {
    "colab": {
      "name": "Lab 1 - FirstGoogleNotebook.ipynb",
      "provenance": [],
      "toc_visible": true,
      "authorship_tag": "ABX9TyPAmQSXWFhBE1AxrFjiCiPu",
      "include_colab_link": true
    },
    "kernelspec": {
      "name": "python3",
      "display_name": "Python 3"
    }
  },
  "cells": [
    {
      "cell_type": "markdown",
      "metadata": {
        "id": "view-in-github",
        "colab_type": "text"
      },
      "source": [
        "<a href=\"https://colab.research.google.com/github/bfg5103/SRA268/blob/master/Lab_1_FirstGoogleNotebook.ipynb\" target=\"_parent\"><img src=\"https://colab.research.google.com/assets/colab-badge.svg\" alt=\"Open In Colab\"/></a>"
      ]
    },
    {
      "cell_type": "markdown",
      "metadata": {
        "id": "Y4uj3z3nZ-8Z",
        "colab_type": "text"
      },
      "source": [
        "# ***Maximum vs. Minimum Temperatures For May 2017***\n",
        "\n",
        "\n",
        "\n",
        "\n"
      ]
    },
    {
      "cell_type": "markdown",
      "metadata": {
        "id": "aTAKEjMsaBBD",
        "colab_type": "text"
      },
      "source": [
        "# Brief Outline\n",
        "This double line graph analyzes the maximum and minimum temperatures during the month of May in 2017. The left side of the graph measures the temperatures in degrees. The bottom side of the graph represents the individual dates of each day in the month of May. The red line corresponds to the maximum temperature for that day, while the blue line corresponds to the minimum temperature for that day.\n"
      ]
    },
    {
      "cell_type": "markdown",
      "metadata": {
        "id": "_7jfYNdgaLz_",
        "colab_type": "text"
      },
      "source": [
        "# Graph Sketch\n",
        "![Sketch Design](https://raw.githubusercontent.com/bfg5103/SRA268/master/Images/IMG_0141.jpeg)\n",
        "\n"
      ]
    },
    {
      "cell_type": "markdown",
      "metadata": {
        "id": "aDjmpNQxaQIw",
        "colab_type": "text"
      },
      "source": [
        "# Conclusion\n",
        "As you can see from the graph, the maximum and minimum temperatures were increasing throughout the month of May. I believe this was because the summer season was approaching, ultimatly causing the overall temperature to rise. An interesting thing to note was how drastically the temperature spiked between May 14 and May 19. However, it then decreased again throughout the rest of the month. I believe a double line graph is the best way to approach this data because you can easily see what the min and max temperature was for each individual day. Additionally, you can see the temperature trend throughout the month of May for this specific year."
      ]
    }
  ]
}