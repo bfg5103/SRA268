{
  "nbformat": 4,
  "nbformat_minor": 0,
  "metadata": {
    "colab": {
      "name": "Group25_TeamProject1.ipynb",
      "provenance": [],
      "collapsed_sections": [],
      "include_colab_link": true
    },
    "kernelspec": {
      "name": "python3",
      "display_name": "Python 3"
    }
  },
  "cells": [
    {
      "cell_type": "markdown",
      "metadata": {
        "id": "view-in-github",
        "colab_type": "text"
      },
      "source": [
        "<a href=\"https://colab.research.google.com/github/bfg5103/SRA268/blob/master/(DRAFT)Group25_TeamProject1.ipynb\" target=\"_parent\"><img src=\"https://colab.research.google.com/assets/colab-badge.svg\" alt=\"Open In Colab\"/></a>"
      ]
    },
    {
      "cell_type": "markdown",
      "metadata": {
        "id": "Z6LQsJBU1vHd",
        "colab_type": "text"
      },
      "source": [
        "## **Title: The Good, The Bad and The Ugly**"
      ]
    },
    {
      "cell_type": "markdown",
      "metadata": {
        "id": "kW6Cbvo82Sys",
        "colab_type": "text"
      },
      "source": [
        "#### Creators\n",
        "\n",
        "\n",
        "*   Brittany Goepfert\n",
        "*   Ian Hale\n",
        "*   Buket Senyurt\n"
      ]
    },
    {
      "cell_type": "markdown",
      "metadata": {
        "id": "cixXSM4I12Yw",
        "colab_type": "text"
      },
      "source": [
        "### Original Project (Lab Assignment 1)"
      ]
    },
    {
      "cell_type": "markdown",
      "metadata": {
        "id": "3Xny9mL615LM",
        "colab_type": "text"
      },
      "source": [
        "This double line graph analyzes the maximum and minimum temperatures during the month of May in 2017. The left side of the graph measures the temperatures in degrees. The bottom side of the graph represents the individual dates of each day in the month of May. The red line corresponds to the maximum temperature for that day, while the blue line corresponds to the minimum temperature for that day."
      ]
    },
    {
      "cell_type": "markdown",
      "metadata": {
        "id": "cQSlrfVW19HW",
        "colab_type": "text"
      },
      "source": [
        "![Sketch Design](https://raw.githubusercontent.com/bfg5103/SRA268/master/Images/Screen%20Shot%202020-01-24%20at%203.02.03%20PM.png)"
      ]
    },
    {
      "cell_type": "markdown",
      "metadata": {
        "id": "NEQgzUl32GVZ",
        "colab_type": "text"
      },
      "source": [
        "As you can see from the graph, the maximum and minimum temperatures were increasing throughout the month of May. I believe this was because the summer season was approaching, ultimatly causing the overall temperature to rise. An interesting thing to note is how drastically the temperature spiked between May 14 and May 19. However, it then decreased again throughout the rest of the month. I believe a double line graph is the best way to approach this data because you can easily see what the min and max temperature was for each individual day. Additionally, you can see the temperature trend throughout the month of May for this specific year."
      ]
    },
    {
      "cell_type": "markdown",
      "metadata": {
        "id": "ROM_QFLo2KyH",
        "colab_type": "text"
      },
      "source": [
        "### Team Project 1"
      ]
    },
    {
      "cell_type": "markdown",
      "metadata": {
        "id": "Q5t3T7W-Hki8",
        "colab_type": "text"
      },
      "source": [
        "Updated write-up for team project 1"
      ]
    },
    {
      "cell_type": "markdown",
      "metadata": {
        "id": "YBMMWB2oHrRB",
        "colab_type": "text"
      },
      "source": [
        "#### The Good"
      ]
    },
    {
      "cell_type": "markdown",
      "metadata": {
        "id": "ITlYgwM6Ht8K",
        "colab_type": "text"
      },
      "source": [
        ""
      ]
    },
    {
      "cell_type": "code",
      "metadata": {
        "id": "_0eP3qoh2QD0",
        "colab_type": "code",
        "outputId": "2f455a05-6325-4c03-8bfc-aa9473cc31ee",
        "colab": {
          "base_uri": "https://localhost:8080/",
          "height": 995
        }
      },
      "source": [
        "import IPython\n",
        "IPython.display.HTML(\"<div class='tableauPlaceholder' id='viz1580957982939' style='position: relative'><noscript><a href='#'><img alt=' ' src='https:&#47;&#47;public.tableau.com&#47;static&#47;images&#47;Te&#47;TeamProject1-TheGoodTheBadandTheUglyMaxv_MinTemperatureforMay2017&#47;TheGood&#47;1_rss.png' style='border: none' /></a></noscript><object class='tableauViz'  style='display:none;'><param name='host_url' value='https%3A%2F%2Fpublic.tableau.com%2F' /> <param name='embed_code_version' value='3' /> <param name='site_root' value='' /><param name='name' value='TeamProject1-TheGoodTheBadandTheUglyMaxv_MinTemperatureforMay2017&#47;TheGood' /><param name='tabs' value='no' /><param name='toolbar' value='yes' /><param name='static_image' value='https:&#47;&#47;public.tableau.com&#47;static&#47;images&#47;Te&#47;TeamProject1-TheGoodTheBadandTheUglyMaxv_MinTemperatureforMay2017&#47;TheGood&#47;1.png' /> <param name='animate_transition' value='yes' /><param name='display_static_image' value='yes' /><param name='display_spinner' value='yes' /><param name='display_overlay' value='yes' /><param name='display_count' value='yes' /><param name='filter' value='publish=yes' /></object></div>                <script type='text/javascript'>                    var divElement = document.getElementById('viz1580957982939');                    var vizElement = divElement.getElementsByTagName('object')[0];                    vizElement.style.width='100%';vizElement.style.height=(divElement.offsetWidth*0.75)+'px';                    var scriptElement = document.createElement('script');                    scriptElement.src = 'https://public.tableau.com/javascripts/api/viz_v1.js';                    vizElement.parentNode.insertBefore(scriptElement, vizElement);                </script>\")\n"
      ],
      "execution_count": 2,
      "outputs": [
        {
          "output_type": "execute_result",
          "data": {
            "text/html": [
              "<div class='tableauPlaceholder' id='viz1580957982939' style='position: relative'><noscript><a href='#'><img alt=' ' src='https:&#47;&#47;public.tableau.com&#47;static&#47;images&#47;Te&#47;TeamProject1-TheGoodTheBadandTheUglyMaxv_MinTemperatureforMay2017&#47;TheGood&#47;1_rss.png' style='border: none' /></a></noscript><object class='tableauViz'  style='display:none;'><param name='host_url' value='https%3A%2F%2Fpublic.tableau.com%2F' /> <param name='embed_code_version' value='3' /> <param name='site_root' value='' /><param name='name' value='TeamProject1-TheGoodTheBadandTheUglyMaxv_MinTemperatureforMay2017&#47;TheGood' /><param name='tabs' value='no' /><param name='toolbar' value='yes' /><param name='static_image' value='https:&#47;&#47;public.tableau.com&#47;static&#47;images&#47;Te&#47;TeamProject1-TheGoodTheBadandTheUglyMaxv_MinTemperatureforMay2017&#47;TheGood&#47;1.png' /> <param name='animate_transition' value='yes' /><param name='display_static_image' value='yes' /><param name='display_spinner' value='yes' /><param name='display_overlay' value='yes' /><param name='display_count' value='yes' /><param name='filter' value='publish=yes' /></object></div>                <script type='text/javascript'>                    var divElement = document.getElementById('viz1580957982939');                    var vizElement = divElement.getElementsByTagName('object')[0];                    vizElement.style.width='100%';vizElement.style.height=(divElement.offsetWidth*0.75)+'px';                    var scriptElement = document.createElement('script');                    scriptElement.src = 'https://public.tableau.com/javascripts/api/viz_v1.js';                    vizElement.parentNode.insertBefore(scriptElement, vizElement);                </script>"
            ],
            "text/plain": [
              "<IPython.core.display.HTML object>"
            ]
          },
          "metadata": {
            "tags": []
          },
          "execution_count": 2
        }
      ]
    },
    {
      "cell_type": "markdown",
      "metadata": {
        "id": "vZ__tY4XINir",
        "colab_type": "text"
      },
      "source": [
        "#### The Bad"
      ]
    },
    {
      "cell_type": "markdown",
      "metadata": {
        "id": "DszQ1tGVIRQq",
        "colab_type": "text"
      },
      "source": [
        "Why it is bad."
      ]
    },
    {
      "cell_type": "code",
      "metadata": {
        "id": "exP8QkajF7Du",
        "colab_type": "code",
        "outputId": "0c93769f-4e5c-41a1-b62c-b01a3990477e",
        "colab": {
          "base_uri": "https://localhost:8080/",
          "height": 995
        }
      },
      "source": [
        "import IPython\n",
        "IPython.display.HTML(\"<div class='tableauPlaceholder' id='viz1580958244848' style='position: relative'><noscript><a href='#'><img alt=' ' src='https:&#47;&#47;public.tableau.com&#47;static&#47;images&#47;Th&#47;TheBadMaxv_MinTemperatureforMay2017&#47;TheBad&#47;1_rss.png' style='border: none' /></a></noscript><object class='tableauViz'  style='display:none;'><param name='host_url' value='https%3A%2F%2Fpublic.tableau.com%2F' /> <param name='embed_code_version' value='3' /> <param name='site_root' value='' /><param name='name' value='TheBadMaxv_MinTemperatureforMay2017&#47;TheBad' /><param name='tabs' value='no' /><param name='toolbar' value='yes' /><param name='static_image' value='https:&#47;&#47;public.tableau.com&#47;static&#47;images&#47;Th&#47;TheBadMaxv_MinTemperatureforMay2017&#47;TheBad&#47;1.png' /> <param name='animate_transition' value='yes' /><param name='display_static_image' value='yes' /><param name='display_spinner' value='yes' /><param name='display_overlay' value='yes' /><param name='display_count' value='yes' /><param name='filter' value='publish=yes' /></object></div>                <script type='text/javascript'>                    var divElement = document.getElementById('viz1580958244848');                    var vizElement = divElement.getElementsByTagName('object')[0];                    vizElement.style.width='100%';vizElement.style.height=(divElement.offsetWidth*0.75)+'px';                    var scriptElement = document.createElement('script');                    scriptElement.src = 'https://public.tableau.com/javascripts/api/viz_v1.js';                    vizElement.parentNode.insertBefore(scriptElement, vizElement);                </script>\")\n"
      ],
      "execution_count": 4,
      "outputs": [
        {
          "output_type": "execute_result",
          "data": {
            "text/html": [
              "<div class='tableauPlaceholder' id='viz1580958244848' style='position: relative'><noscript><a href='#'><img alt=' ' src='https:&#47;&#47;public.tableau.com&#47;static&#47;images&#47;Th&#47;TheBadMaxv_MinTemperatureforMay2017&#47;TheBad&#47;1_rss.png' style='border: none' /></a></noscript><object class='tableauViz'  style='display:none;'><param name='host_url' value='https%3A%2F%2Fpublic.tableau.com%2F' /> <param name='embed_code_version' value='3' /> <param name='site_root' value='' /><param name='name' value='TheBadMaxv_MinTemperatureforMay2017&#47;TheBad' /><param name='tabs' value='no' /><param name='toolbar' value='yes' /><param name='static_image' value='https:&#47;&#47;public.tableau.com&#47;static&#47;images&#47;Th&#47;TheBadMaxv_MinTemperatureforMay2017&#47;TheBad&#47;1.png' /> <param name='animate_transition' value='yes' /><param name='display_static_image' value='yes' /><param name='display_spinner' value='yes' /><param name='display_overlay' value='yes' /><param name='display_count' value='yes' /><param name='filter' value='publish=yes' /></object></div>                <script type='text/javascript'>                    var divElement = document.getElementById('viz1580958244848');                    var vizElement = divElement.getElementsByTagName('object')[0];                    vizElement.style.width='100%';vizElement.style.height=(divElement.offsetWidth*0.75)+'px';                    var scriptElement = document.createElement('script');                    scriptElement.src = 'https://public.tableau.com/javascripts/api/viz_v1.js';                    vizElement.parentNode.insertBefore(scriptElement, vizElement);                </script>"
            ],
            "text/plain": [
              "<IPython.core.display.HTML object>"
            ]
          },
          "metadata": {
            "tags": []
          },
          "execution_count": 4
        }
      ]
    },
    {
      "cell_type": "markdown",
      "metadata": {
        "id": "NnaYvuAIIkPV",
        "colab_type": "text"
      },
      "source": [
        "#### The Ugly"
      ]
    },
    {
      "cell_type": "markdown",
      "metadata": {
        "id": "MjmwGWTlIlOi",
        "colab_type": "text"
      },
      "source": [
        "Why it is bad."
      ]
    },
    {
      "cell_type": "code",
      "metadata": {
        "id": "NQXOfUYSISyG",
        "colab_type": "code",
        "outputId": "b2d64a77-5b88-44b1-efde-2df774c68ece",
        "colab": {
          "base_uri": "https://localhost:8080/",
          "height": 995
        }
      },
      "source": [
        "import IPython\n",
        "IPython.display.HTML(\"<div class='tableauPlaceholder' id='viz1580958409287' style='position: relative'><noscript><a href='#'><img alt=' ' src='https:&#47;&#47;public.tableau.com&#47;static&#47;images&#47;Th&#47;TheUgly2Maxv_MinTemperatureforMay2017&#47;TheUgly&#47;1_rss.png' style='border: none' /></a></noscript><object class='tableauViz'  style='display:none;'><param name='host_url' value='https%3A%2F%2Fpublic.tableau.com%2F' /> <param name='embed_code_version' value='3' /> <param name='site_root' value='' /><param name='name' value='TheUgly2Maxv_MinTemperatureforMay2017&#47;TheUgly' /><param name='tabs' value='no' /><param name='toolbar' value='yes' /><param name='static_image' value='https:&#47;&#47;public.tableau.com&#47;static&#47;images&#47;Th&#47;TheUgly2Maxv_MinTemperatureforMay2017&#47;TheUgly&#47;1.png' /> <param name='animate_transition' value='yes' /><param name='display_static_image' value='yes' /><param name='display_spinner' value='yes' /><param name='display_overlay' value='yes' /><param name='display_count' value='yes' /><param name='filter' value='publish=yes' /></object></div>                <script type='text/javascript'>                    var divElement = document.getElementById('viz1580958409287');                    var vizElement = divElement.getElementsByTagName('object')[0];                    vizElement.style.width='100%';vizElement.style.height=(divElement.offsetWidth*0.75)+'px';                    var scriptElement = document.createElement('script');                    scriptElement.src = 'https://public.tableau.com/javascripts/api/viz_v1.js';                    vizElement.parentNode.insertBefore(scriptElement, vizElement);                </script>\")\n"
      ],
      "execution_count": 8,
      "outputs": [
        {
          "output_type": "execute_result",
          "data": {
            "text/html": [
              "<div class='tableauPlaceholder' id='viz1580958409287' style='position: relative'><noscript><a href='#'><img alt=' ' src='https:&#47;&#47;public.tableau.com&#47;static&#47;images&#47;Th&#47;TheUgly2Maxv_MinTemperatureforMay2017&#47;TheUgly&#47;1_rss.png' style='border: none' /></a></noscript><object class='tableauViz'  style='display:none;'><param name='host_url' value='https%3A%2F%2Fpublic.tableau.com%2F' /> <param name='embed_code_version' value='3' /> <param name='site_root' value='' /><param name='name' value='TheUgly2Maxv_MinTemperatureforMay2017&#47;TheUgly' /><param name='tabs' value='no' /><param name='toolbar' value='yes' /><param name='static_image' value='https:&#47;&#47;public.tableau.com&#47;static&#47;images&#47;Th&#47;TheUgly2Maxv_MinTemperatureforMay2017&#47;TheUgly&#47;1.png' /> <param name='animate_transition' value='yes' /><param name='display_static_image' value='yes' /><param name='display_spinner' value='yes' /><param name='display_overlay' value='yes' /><param name='display_count' value='yes' /><param name='filter' value='publish=yes' /></object></div>                <script type='text/javascript'>                    var divElement = document.getElementById('viz1580958409287');                    var vizElement = divElement.getElementsByTagName('object')[0];                    vizElement.style.width='100%';vizElement.style.height=(divElement.offsetWidth*0.75)+'px';                    var scriptElement = document.createElement('script');                    scriptElement.src = 'https://public.tableau.com/javascripts/api/viz_v1.js';                    vizElement.parentNode.insertBefore(scriptElement, vizElement);                </script>"
            ],
            "text/plain": [
              "<IPython.core.display.HTML object>"
            ]
          },
          "metadata": {
            "tags": []
          },
          "execution_count": 8
        }
      ]
    },
    {
      "cell_type": "code",
      "metadata": {
        "id": "e3SKAxePKem_",
        "colab_type": "code",
        "colab": {}
      },
      "source": [
        ""
      ],
      "execution_count": 0,
      "outputs": []
    }
  ]
}