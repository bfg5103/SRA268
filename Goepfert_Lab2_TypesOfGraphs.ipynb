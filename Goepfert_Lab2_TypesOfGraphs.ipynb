{
  "nbformat": 4,
  "nbformat_minor": 0,
  "metadata": {
    "colab": {
      "name": "Goepfert_Lab2_TypesOfGraphs.ipynb",
      "provenance": [],
      "include_colab_link": true
    },
    "kernelspec": {
      "name": "python3",
      "display_name": "Python 3"
    }
  },
  "cells": [
    {
      "cell_type": "markdown",
      "metadata": {
        "id": "view-in-github",
        "colab_type": "text"
      },
      "source": [
        "<a href=\"https://colab.research.google.com/github/bfg5103/SRA268/blob/master/Goepfert_Lab2_TypesOfGraphs.ipynb\" target=\"_parent\"><img src=\"https://colab.research.google.com/assets/colab-badge.svg\" alt=\"Open In Colab\"/></a>"
      ]
    },
    {
      "cell_type": "markdown",
      "metadata": {
        "id": "6sOc4Uyr4U-Z",
        "colab_type": "text"
      },
      "source": [
        "## Lab 2 - Types of Graphs"
      ]
    },
    {
      "cell_type": "markdown",
      "metadata": {
        "id": "0zZdVLAd5CYr",
        "colab_type": "text"
      },
      "source": [
        "Creator\n",
        "* Brittany Goepfert"
      ]
    },
    {
      "cell_type": "markdown",
      "metadata": {
        "id": "g-r6Clq45Hn4",
        "colab_type": "text"
      },
      "source": [
        "### Deviation\n"
      ]
    },
    {
      "cell_type": "markdown",
      "metadata": {
        "id": "2gorxo6E7A0t",
        "colab_type": "text"
      },
      "source": [
        "![alt text](https://raw.githubusercontent.com/bfg5103/SRA268/master/Screen%20Shot%202020-02-20%20at%208.51.16%20PM.png)"
      ]
    },
    {
      "cell_type": "markdown",
      "metadata": {
        "id": "w6bZ_NEi7E3w",
        "colab_type": "text"
      },
      "source": [
        "#### What is this telling us?"
      ]
    },
    {
      "cell_type": "markdown",
      "metadata": {
        "id": "95L-spaC7QHF",
        "colab_type": "text"
      },
      "source": [
        "I decided to create a spine graph that analyzes the total win points and loss points of certain teams. The red bars represent total points scored when the team lost, and the green bar represents total points scored when the team won. This type of color coding is known as retinal visual encoding because it makes it easier to understand at first glance. This graph really highlights which teams score the most points. For example, Duke's bar stretches very far in both directions. When looking at Villanova, they strecth very little. Therefore, I laerned that Duke scored much more points than Villanova, even when they won or lost. Overall, this graph makes it clear which teams scored the most points, regardless of the outcome."
      ]
    },
    {
      "cell_type": "markdown",
      "metadata": {
        "id": "YgXyXjmz7cDP",
        "colab_type": "text"
      },
      "source": [
        "### Correlation\n"
      ]
    },
    {
      "cell_type": "markdown",
      "metadata": {
        "id": "SGx15rZq7hvt",
        "colab_type": "text"
      },
      "source": [
        "![alt text](https://raw.githubusercontent.com/bfg5103/SRA268/master/Screen%20Shot%202020-02-20%20at%2010.56.51%20PM.png)"
      ]
    },
    {
      "cell_type": "markdown",
      "metadata": {
        "id": "dljjONNi7jmj",
        "colab_type": "text"
      },
      "source": [
        "#### What is this telling us?"
      ]
    },
    {
      "cell_type": "markdown",
      "metadata": {
        "id": "PwZEZrFB7laG",
        "colab_type": "text"
      },
      "source": [
        "The goal of a correlation graph is to show the relationship between two set data points. Therefore, I decided to create a scatterplot. In my graph, I analyzed the relationship of win points and lose points over the academic years. After looking at my results, I learned that they are positively correlated. This means that as the academic year goes up, the value of win points and lose points goes up as well. This type of graph has a planar visual encoding, also known as spatial. This type of encoding highlights the trend in data sets. Overall, this graph highlights the relationship between win points and lose points throughout academic years."
      ]
    },
    {
      "cell_type": "markdown",
      "metadata": {
        "id": "MqUdI-uL7r2s",
        "colab_type": "text"
      },
      "source": [
        "### Ranking\n"
      ]
    },
    {
      "cell_type": "markdown",
      "metadata": {
        "id": "AvlxCOVt7x9F",
        "colab_type": "text"
      },
      "source": [
        "![alt text](https://raw.githubusercontent.com/bfg5103/SRA268/master/Screen%20Shot%202020-02-20%20at%208.39.45%20PM.png)"
      ]
    },
    {
      "cell_type": "markdown",
      "metadata": {
        "id": "lCAYtfza7yTq",
        "colab_type": "text"
      },
      "source": [
        "#### What is this telling us?"
      ]
    },
    {
      "cell_type": "markdown",
      "metadata": {
        "id": "MyuciD277ygU",
        "colab_type": "text"
      },
      "source": [
        "The goal of a ranking graph is to highlight the position of data relative to one another. I decided to create a graph that ranked the teams with the highest amount of total points scored when won. To the left is the team with the most total win points scored, with the total teams win point scores decreasing as you go to the right. The bars get shorter in order to represent first place, second place, etc... This type of retinal encoding highlights the rankings, as their size visually changes based on their position. After making the graph, I laerned that North Carolina was the highest scoring team out of the games they won. With the graph, it is now clear to see that Kansas was right behind them, only 78 points shy of taking the first place position."
      ]
    },
    {
      "cell_type": "markdown",
      "metadata": {
        "id": "dGDGl8-G7y8Y",
        "colab_type": "text"
      },
      "source": [
        "### Distribution\n"
      ]
    },
    {
      "cell_type": "markdown",
      "metadata": {
        "id": "FB0uV-jy76p9",
        "colab_type": "text"
      },
      "source": [
        "![alt text](https://raw.githubusercontent.com/bfg5103/SRA268/master/Screen%20Shot%202020-02-20%20at%208.41.26%20PM.png)"
      ]
    },
    {
      "cell_type": "markdown",
      "metadata": {
        "id": "_6SOzhrQ76zH",
        "colab_type": "text"
      },
      "source": [
        "#### What is this telling us?"
      ]
    },
    {
      "cell_type": "markdown",
      "metadata": {
        "id": "HBWqsS_g767h",
        "colab_type": "text"
      },
      "source": [
        "This distribution graph shows the history of total win points scored from 2001 to 2016. Histograms are a classic way of showing the spread of a certain set of data numbers. I decided to showcase the total number of win points scored. From this graph, I learned that the most total win points out of these years was scored in 2016. Therefore, that bar is highest when comparing to others years. This type of visual encoding is called retinal, because the size of the bar changes in order to highlight how much or how little data is present. Overall, this distribution graph shows us how often total win points are scored."
      ]
    },
    {
      "cell_type": "markdown",
      "metadata": {
        "id": "wQsDThk677Fy",
        "colab_type": "text"
      },
      "source": [
        "### Change over Time\n"
      ]
    },
    {
      "cell_type": "markdown",
      "metadata": {
        "id": "Z1j_YLOA7_OK",
        "colab_type": "text"
      },
      "source": [
        "![alt text](https://raw.githubusercontent.com/bfg5103/SRA268/master/Screen%20Shot%202020-02-20%20at%208.45.26%20PM.png)"
      ]
    },
    {
      "cell_type": "markdown",
      "metadata": {
        "id": "mpfsmmgi7_Vj",
        "colab_type": "text"
      },
      "source": [
        "#### What is this telling us?"
      ]
    },
    {
      "cell_type": "markdown",
      "metadata": {
        "id": "rYLXoMMO7_di",
        "colab_type": "text"
      },
      "source": [
        "The goal of a change over time graph is to show trends in particular data sets. In this situation, I decided to analyze the total win points scored from 2000 to 2016 by making a line graph. I made the line green to represent that these points were from winning games. This is called retinal visual encoding. This type of graph highlights the trends in data, therefore it is clear to see that total win points scored per year has fluctuated. I learned that 2005 was the year with the lowest total win points ever scored for that decade. Additionally, we can see that total win points scored is currently on the rise. Overall, line graphs make it very easy to analyze trends over a certain amount of time."
      ]
    },
    {
      "cell_type": "markdown",
      "metadata": {
        "id": "lFwiHoE-7_jZ",
        "colab_type": "text"
      },
      "source": [
        "### Magnitude\n"
      ]
    },
    {
      "cell_type": "markdown",
      "metadata": {
        "id": "ICQFnXj78EbF",
        "colab_type": "text"
      },
      "source": [
        "![alt text](https://raw.githubusercontent.com/bfg5103/SRA268/master/Screen%20Shot%202020-02-20%20at%208.46.57%20PM.png)"
      ]
    },
    {
      "cell_type": "markdown",
      "metadata": {
        "id": "QGG7XYG88Eii",
        "colab_type": "text"
      },
      "source": [
        "#### What is this telling us?"
      ]
    },
    {
      "cell_type": "markdown",
      "metadata": {
        "id": "VS7uGa0l8Eos",
        "colab_type": "text"
      },
      "source": [
        "The goal of a magnitude graph is to show comparisons of data. Therefore, I decided to compare total win points scored with days of the week by making a double line graph. This type of graph was super interesting to make because it \"binned\" my data together, highlighting which day had more points scored than others. Each day of the week has its own \"bin\", and then win points and lose points for that day are inside. Win points are represented in green, while lose points are in red. This type of visual encoding is called retinal, as the data is structured for the human eye to understand upon first look. Due to this layout of data, I learned that the most win points scored and lose points scored occured on a Thursday. This leads me to believe that most March Madness games took place on a Thursday. "
      ]
    },
    {
      "cell_type": "markdown",
      "metadata": {
        "id": "bEKFxP8R8Evk",
        "colab_type": "text"
      },
      "source": [
        "### Part-to-Whole\n"
      ]
    },
    {
      "cell_type": "markdown",
      "metadata": {
        "id": "WFHlcYKV8E35",
        "colab_type": "text"
      },
      "source": [
        "![alt text](https://raw.githubusercontent.com/bfg5103/SRA268/master/Screen%20Shot%202020-02-20%20at%208.48.47%20PM.png)"
      ]
    },
    {
      "cell_type": "markdown",
      "metadata": {
        "id": "PNSd3wlp8UZH",
        "colab_type": "text"
      },
      "source": [
        "#### What is this telling us?"
      ]
    },
    {
      "cell_type": "markdown",
      "metadata": {
        "id": "y9tb_QRA8aqt",
        "colab_type": "text"
      },
      "source": [
        "A part-to-whole graph analyzes individual data while making a complete picture all together. Therefore, I decided to create a pie chart because I feel that they are the best kinds of graphs to make when comparing multiple elements. I decided to analyze win points scored with days of the week. Each day of the week has its own \"slice\" of the pie, growing bigger or smaller based on the data. Additionally, each day of the week has its own color, in order to highlight which day dominates the pie. This is called retinal visual encoding, where the colors and the size of the \"slice\" are used to help represent data. Similar to my magnitude graph, I learned that Thursday had the most points scored. This leads me to infer that most March Madness games were played on Thursdays, while the least amount of games were played on Wednesdays."
      ]
    }
  ]
}