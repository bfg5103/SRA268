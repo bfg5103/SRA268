{
  "nbformat": 4,
  "nbformat_minor": 0,
  "metadata": {
    "colab": {
      "name": "Group25_FinalTeamProject.ipynb",
      "provenance": [],
      "collapsed_sections": [],
      "include_colab_link": true
    },
    "kernelspec": {
      "name": "python3",
      "display_name": "Python 3"
    }
  },
  "cells": [
    {
      "cell_type": "markdown",
      "metadata": {
        "id": "view-in-github",
        "colab_type": "text"
      },
      "source": [
        "<a href=\"https://colab.research.google.com/github/bfg5103/SRA268/blob/master/Group25_FinalTeamProject.ipynb\" target=\"_parent\"><img src=\"https://colab.research.google.com/assets/colab-badge.svg\" alt=\"Open In Colab\"/></a>"
      ]
    },
    {
      "cell_type": "markdown",
      "metadata": {
        "id": "Kw5PZBtl0Ob6",
        "colab_type": "text"
      },
      "source": [
        "\n",
        "# **Aggravated Assaults with a Firearm vs. Murders in Philadelphia, PA**\n"
      ]
    },
    {
      "cell_type": "markdown",
      "metadata": {
        "id": "iXWAmSVB0Rno",
        "colab_type": "text"
      },
      "source": [
        "Contributors:\n",
        "\n",
        "\n",
        "*   Brittany Goepfert \n",
        "*   Buket Senyurt\n",
        "*   Ian Hale\n",
        "\n",
        "\n"
      ]
    },
    {
      "cell_type": "markdown",
      "metadata": {
        "id": "WpaW-i5l0ZHn",
        "colab_type": "text"
      },
      "source": [
        "## Background"
      ]
    },
    {
      "cell_type": "markdown",
      "metadata": {
        "id": "E4VKsOvP0eev",
        "colab_type": "text"
      },
      "source": [
        "Philadelphia is a crowded and a passionate city. Crime rates in Philadelphia are forty to one thousand residents, which is one of the highest in the whole nation compared to all communities, ranging from the smallest towns to the largest cities. The city has consistently ranked above the national average for crime, specifically for violent offenses. This is why the city of Philadelphia, Pennsylvania was the ideal city for our project. We decided to analyze the relationship between aggravated assaults with a firearm and firearm victims / murders that have occurred in Philadelphia, PA from the years of 2009 to 2014. We were curious to see if the number of firearms present in assaults was consistent with the number of homicide victims that occurred during those years. It must be kept in mind that during this time, the population of the Philadelphia City rose by approximately 95,000 individuals. This may have had an impact on the rising rates of crime. The Philadelphia crime data and the homicide data were retrieved from the Uniform Crime Reports (UCR) which is managed by The Federal Bureau of Investigation (FBI). The UCR is a database of crimes known to the police. Each police station across the country submits this data to the FBI periodically, therefore it is a reliable source of information. The UCR defines both homicide and aggravated assault as a part 1 offense. Criminal homicide is defined by the UCR as \"the willful (non-negligent) killing of one human being by another and the killing of another person through gross negligence.\" Whereas aggravated assault is defined as \"an unlawful attack by one person upon another for the purpose of inflicting severe or aggravated bodily injury.\" This type of assault usually is accompanied by the use of a weapon or by means likely to produce death or great bodily harm. Simple assaults are excluded. These are the bounds of the data we are comparing for our project."
      ]
    },
    {
      "cell_type": "markdown",
      "metadata": {
        "id": "7d8vfcGufV0_",
        "colab_type": "text"
      },
      "source": [
        "### Goal"
      ]
    },
    {
      "cell_type": "markdown",
      "metadata": {
        "id": "e1jKSGTjfY2H",
        "colab_type": "text"
      },
      "source": [
        "\n",
        "The goal of this project is to analyze the relationship between aggravated assaults with a firearm and deaths from a firearm in Philadelphia, Pennsylvania from 2009 to 2014. "
      ]
    },
    {
      "cell_type": "markdown",
      "metadata": {
        "id": "GOxy_TvCfi54",
        "colab_type": "text"
      },
      "source": [
        "### Assumptions"
      ]
    },
    {
      "cell_type": "markdown",
      "metadata": {
        "id": "cw1v_1MMfnAR",
        "colab_type": "text"
      },
      "source": [
        "Insert 10 assumptions for your data model:\n",
        "*   Aggressive behavior (emotions) can contribute to firearm use in arguments.\n",
        "*   Most of the assaults with a firearms are committed by men.\n",
        "*   Individuals are assaulted by people they know.\n",
        "*   The city's population rose, which can lead to higher rates of crime.\n",
        "*   The violent crime rates reflect the socioeconomic characteristics of the city.\n",
        "*   Handguns are the most popular gun in a murder.\n",
        "*   Philadelphia is one of the most dangerous cities in America.\n",
        "*   It is likely that this data represents south and west Philadelphia.\n",
        "*   Philadelphia is a big shopping area, therefore there are many stores that sell guns and other firearms.\n",
        "*   Arguments that get heated can turn from aggravated assault with a firearm to murder.\n",
        "\n"
      ]
    },
    {
      "cell_type": "markdown",
      "metadata": {
        "id": "jKGILpu7gWr6",
        "colab_type": "text"
      },
      "source": [
        "### Data Sources"
      ]
    },
    {
      "cell_type": "markdown",
      "metadata": {
        "id": "uwCao7AtgbNn",
        "colab_type": "text"
      },
      "source": [
        "\n",
        "\n",
        "*   Crime.csv (https://www.kaggle.com/mchirico/philadelphiacrimedata)\n",
        "*   Database.csv (https://www.kaggle.com/murderaccountability/homicide-reports)\n",
        "\n",
        "We selected these data sources because we wanted to analyze something that we have yet to discuss in class. We came across the Database.csv source first, which notes many murders from 2009 through 2014. The dataset was quite large, therefore we narrowed it down to only victims who passed away from a firearm. We thought this was really interesting, especially because the data contained information on Philadelphia murders, which is not that far from Penn State. Due to Philadelphia being close to our school and the fact that many crimes occur there, we decided to focus our project specifically on the Philadelphia location. Then, we began searching for a dataset we could compare it too. We came across our crime.csv dataset, which outlines many dispatch calls, exact locations of the crime, and dates with specific times of 911 calls from Philadelphia police departments. However, we decided to focus on all the calls surrounding aggravated assault with a firearm. We were curious to see if firearms being present in an argument was positively correlated with the number of murders. Once we had our datasets, we inner joined them using the date, more specifically, the year that the crimes occurred. Inner joining it by year was the most feasible to do, as both data sets were already focused on Philadelphia, PA alone. Once they were joined together, it was clear to see that there were many instances of murder and aggravated assaults that took place in the Philadelphia area. Overall, we thought these two datasets were unique because they were something new to this class and very interesting to analyze."
      ]
    },
    {
      "cell_type": "markdown",
      "metadata": {
        "id": "kDgSdoQUgg2Z",
        "colab_type": "text"
      },
      "source": [
        "#### Sources"
      ]
    },
    {
      "cell_type": "markdown",
      "metadata": {
        "id": "dFzYIi0Agi2_",
        "colab_type": "text"
      },
      "source": [
        "Crime.csv Source - https://www.kaggle.com/mchirico/philadelphiacrimedata \n",
        "Name of the Source: Kaggle.com\n",
        "\n",
        "Database.csv Source - https://www.kaggle.com/murderaccountability/homicide-reports\n",
        "Name of the Source: Kaggle.com\n"
      ]
    },
    {
      "cell_type": "markdown",
      "metadata": {
        "id": "qcFak2v7g3jt",
        "colab_type": "text"
      },
      "source": [
        "## Dashboard"
      ]
    },
    {
      "cell_type": "code",
      "metadata": {
        "id": "knG79vNP0Q0u",
        "colab_type": "code",
        "outputId": "b146033b-0fc6-476e-b8d4-dfdabef3054f",
        "colab": {
          "base_uri": "https://localhost:8080/",
          "height": 844
        }
      },
      "source": [
        "import IPython\n",
        "IPython.display.HTML(\"x\")\n",
        "IPython.display.HTML(\"<div class='tableauPlaceholder' id='viz1588011593229' style='position: relative'><noscript><a href='#'><img alt=' ' src='https:&#47;&#47;public.tableau.com&#47;static&#47;images&#47;Fi&#47;FinalProject_15880115704150&#47;Dashboard1&#47;1_rss.png' style='border: none' /></a></noscript><object class='tableauViz'  style='display:none;'><param name='host_url' value='https%3A%2F%2Fpublic.tableau.com%2F' /> <param name='embed_code_version' value='3' /> <param name='site_root' value='' /><param name='name' value='FinalProject_15880115704150&#47;Dashboard1' /><param name='tabs' value='no' /><param name='toolbar' value='yes' /><param name='static_image' value='https:&#47;&#47;public.tableau.com&#47;static&#47;images&#47;Fi&#47;FinalProject_15880115704150&#47;Dashboard1&#47;1.png' /> <param name='animate_transition' value='yes' /><param name='display_static_image' value='yes' /><param name='display_spinner' value='yes' /><param name='display_overlay' value='yes' /><param name='display_count' value='yes' /><param name='filter' value='publish=yes' /></object></div><script type='text/javascript'>var divElement = document.getElementById('viz1588011593229');var vizElement = divElement.getElementsByTagName('object')[0];if ( divElement.offsetWidth > 800 ) { vizElement.style.width='1000px';vizElement.style.height='827px';} else if ( divElement.offsetWidth > 500 ) { vizElement.style.width='1000px';vizElement.style.height='827px';} else { vizElement.style.width='100%';vizElement.style.height='727px';}var scriptElement = document.createElement('script');scriptElement.src = 'https://public.tableau.com/javascripts/api/viz_v1.js';vizElement.parentNode.insertBefore(scriptElement, vizElement);</script>\")\\"
      ],
      "execution_count": 0,
      "outputs": [
        {
          "output_type": "execute_result",
          "data": {
            "text/html": [
              "<div class='tableauPlaceholder' id='viz1588011593229' style='position: relative'><noscript><a href='#'><img alt=' ' src='https:&#47;&#47;public.tableau.com&#47;static&#47;images&#47;Fi&#47;FinalProject_15880115704150&#47;Dashboard1&#47;1_rss.png' style='border: none' /></a></noscript><object class='tableauViz'  style='display:none;'><param name='host_url' value='https%3A%2F%2Fpublic.tableau.com%2F' /> <param name='embed_code_version' value='3' /> <param name='site_root' value='' /><param name='name' value='FinalProject_15880115704150&#47;Dashboard1' /><param name='tabs' value='no' /><param name='toolbar' value='yes' /><param name='static_image' value='https:&#47;&#47;public.tableau.com&#47;static&#47;images&#47;Fi&#47;FinalProject_15880115704150&#47;Dashboard1&#47;1.png' /> <param name='animate_transition' value='yes' /><param name='display_static_image' value='yes' /><param name='display_spinner' value='yes' /><param name='display_overlay' value='yes' /><param name='display_count' value='yes' /><param name='filter' value='publish=yes' /></object></div><script type='text/javascript'>var divElement = document.getElementById('viz1588011593229');var vizElement = divElement.getElementsByTagName('object')[0];if ( divElement.offsetWidth > 800 ) { vizElement.style.width='1000px';vizElement.style.height='827px';} else if ( divElement.offsetWidth > 500 ) { vizElement.style.width='1000px';vizElement.style.height='827px';} else { vizElement.style.width='100%';vizElement.style.height='727px';}var scriptElement = document.createElement('script');scriptElement.src = 'https://public.tableau.com/javascripts/api/viz_v1.js';vizElement.parentNode.insertBefore(scriptElement, vizElement);</script>"
            ],
            "text/plain": [
              "<IPython.core.display.HTML object>"
            ]
          },
          "metadata": {
            "tags": []
          },
          "execution_count": 2
        }
      ]
    },
    {
      "cell_type": "markdown",
      "metadata": {
        "id": "SvWfnlDjnos1",
        "colab_type": "text"
      },
      "source": [
        "## Conclusion"
      ]
    },
    {
      "cell_type": "markdown",
      "metadata": {
        "id": "SQbK0WDBPOED",
        "colab_type": "text"
      },
      "source": [
        "Philadelphia, a city with a murder rate of 21.5 people per 100,000 people, is considered one of the most dangerous cities in America. It has the highest crime rate of the ten American cities with more than 1 million residents, as well as the highest poverty rate. In 2012, they recorded a record number of murders by a firearm, and as a result, pushed to lower the murder rate in 2013. Charles Ramsey, the police commissioner, has stated that his goal is to reduce the number of homicides by 100 per year. This is combined with a country wide push against the murder rate, and almost every major city in America lowered their rates, as only Memphis did not adhere to the drop. This decline in deaths in 2013 represents a 40-45 year low. However, in terms of general decrease in murder rate, Philadelphia has been known to be an outlier in terms of decreasing murder rates in all of America. What we see and learn here in this graph is that from the times of 2009 to 2012 a huge increase in murders and a gradual rise in aggravated assault appear. From what we can see in 2013, the Philadelphia police did a great job in reducing the murder rate, but aggravated assaults go up. This might be because of the fact that police were more on top of 911 gun calls, and, as a result, they were able to show up before the aggravated assault became a murder. This action is probably related to the country-wide push to lower murder rates in 2013. We do see a little bit of correlation between aggravated assault and murders, since they are related in kind of a backwards way. If there are more murders, there are probably less aggravated assaults, and vice-versa. We also see that, in 2014, the firearm victim rate goes even lower, implying that the police are doing a very good job of keeping the trend line low. However, we do see aggravated assault drop to next to nothing, which implies that the police maybe didn't report some cases, or that the rate is literally that low. This incredible decline in 2012 is by far the most interesting thing about this data, and looking forward into 2014 and possibly even 2015-16 they do keep firearm victims numbers down. However, now in 2020, the murder rate is back on the rise. Researching more into Philadelphia, in 2012, no part of the city was without a murder. In 2013, the north and east parts of Philadelphia were almost completely 100% clean of murder, meaning that the majority of the data points in 2013-2014 are only the dangerous parts of the city. With a quick google search, you can find that most of the crime is concentrated in the most dangerous parts of Philadelphia, and the data that concerns to 911 calls definitely points out the same areas. Overall, this project was very interesting, since it is something that we have not touched on in class, and the fact that Philadelphia is where most Penn State students are from. I think a lot of the people actually from Philadelphia would be surprised by these numbers. "
      ]
    }
  ]
}