{
  "nbformat": 4,
  "nbformat_minor": 0,
  "metadata": {
    "colab": {
      "name": "StartingNotebook.ipynb",
      "provenance": [],
      "toc_visible": true,
      "authorship_tag": "ABX9TyOL++D2j934DfuwgPb0Eufc",
      "include_colab_link": true
    },
    "kernelspec": {
      "name": "python3",
      "display_name": "Python 3"
    }
  },
  "cells": [
    {
      "cell_type": "markdown",
      "metadata": {
        "id": "view-in-github",
        "colab_type": "text"
      },
      "source": [
        "<a href=\"https://colab.research.google.com/github/bfg5103/SRA268/blob/master/StartingNotebook.ipynb\" target=\"_parent\"><img src=\"https://colab.research.google.com/assets/colab-badge.svg\" alt=\"Open In Colab\"/></a>"
      ]
    },
    {
      "cell_type": "code",
      "metadata": {
        "id": "NxLDK6s84psc",
        "colab_type": "code",
        "colab": {
          "base_uri": "https://localhost:8080/",
          "height": 34
        },
        "outputId": "49e9d649-bf2d-49d1-b284-0848c177ae5f"
      },
      "source": [
        "2+2"
      ],
      "execution_count": 1,
      "outputs": [
        {
          "output_type": "execute_result",
          "data": {
            "text/plain": [
              "4"
            ]
          },
          "metadata": {
            "tags": []
          },
          "execution_count": 1
        }
      ]
    },
    {
      "cell_type": "markdown",
      "metadata": {
        "id": "izAi_yHr5dD1",
        "colab_type": "text"
      },
      "source": [
        "# Abstract"
      ]
    },
    {
      "cell_type": "markdown",
      "metadata": {
        "id": "n6IHaSbF5wSr",
        "colab_type": "text"
      },
      "source": [
        "Something in the abstract\n"
      ]
    },
    {
      "cell_type": "markdown",
      "metadata": {
        "id": "eVYT-R8-51ZP",
        "colab_type": "text"
      },
      "source": [
        "# Introduction\n"
      ]
    },
    {
      "cell_type": "markdown",
      "metadata": {
        "id": "W8Favdr46BtJ",
        "colab_type": "text"
      },
      "source": [
        "![PSU Club Basketball Image](https://raw.githubusercontent.com/bfg5103/SRA268/master/Images/Screen%20Shot%202019-11-15%20at%2011.46.48%20AM.png)"
      ]
    }
  ]
}